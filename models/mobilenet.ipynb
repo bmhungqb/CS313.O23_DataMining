{
 "cells": [
  {
   "cell_type": "code",
   "execution_count": 1,
   "id": "05d2ac36",
   "metadata": {
    "execution": {
     "iopub.execute_input": "2024-05-28T04:57:39.913245Z",
     "iopub.status.busy": "2024-05-28T04:57:39.912897Z",
     "iopub.status.idle": "2024-05-28T04:57:45.998491Z",
     "shell.execute_reply": "2024-05-28T04:57:45.997703Z"
    },
    "papermill": {
     "duration": 6.09461,
     "end_time": "2024-05-28T04:57:46.000872",
     "exception": false,
     "start_time": "2024-05-28T04:57:39.906262",
     "status": "completed"
    },
    "tags": []
   },
   "outputs": [],
   "source": [
    "import torch\n",
    "import torchvision\n",
    "from torchvision import transforms\n",
    "from torch.utils.data import DataLoader\n",
    "from torchvision.datasets import ImageFolder\n",
    "import torch.nn as nn\n",
    "import torch.optim as optim\n",
    "import os\n",
    "import random\n",
    "import matplotlib.pyplot as plt\n",
    "import numpy as np\n",
    "\n",
    "os.environ[\"CUDA_LAUNCH_BLOCKING\"] = \"1\"\n",
    "os.environ[\"TORCH_USE_CUDA_DSA\"] = \"1\""
   ]
  },
  {
   "cell_type": "code",
   "execution_count": 2,
   "id": "beb93c5a",
   "metadata": {
    "execution": {
     "iopub.execute_input": "2024-05-28T04:57:46.011820Z",
     "iopub.status.busy": "2024-05-28T04:57:46.011180Z",
     "iopub.status.idle": "2024-05-28T04:57:46.018822Z",
     "shell.execute_reply": "2024-05-28T04:57:46.017836Z"
    },
    "papermill": {
     "duration": 0.015252,
     "end_time": "2024-05-28T04:57:46.020966",
     "exception": false,
     "start_time": "2024-05-28T04:57:46.005714",
     "status": "completed"
    },
    "tags": []
   },
   "outputs": [],
   "source": [
    "# Set random seed for reproducibility\n",
    "random_seed = 42\n",
    "torch.manual_seed(random_seed)\n",
    "random.seed(random_seed)\n",
    "torch.backends.cudnn.deterministic = True\n",
    "torch.backends.cudnn.benchmark = False"
   ]
  },
  {
   "cell_type": "code",
   "execution_count": 3,
   "id": "fd60f341",
   "metadata": {
    "execution": {
     "iopub.execute_input": "2024-05-28T04:57:46.031211Z",
     "iopub.status.busy": "2024-05-28T04:57:46.030908Z",
     "iopub.status.idle": "2024-05-28T04:57:46.035578Z",
     "shell.execute_reply": "2024-05-28T04:57:46.034708Z"
    },
    "papermill": {
     "duration": 0.01211,
     "end_time": "2024-05-28T04:57:46.037639",
     "exception": false,
     "start_time": "2024-05-28T04:57:46.025529",
     "status": "completed"
    },
    "tags": []
   },
   "outputs": [],
   "source": [
    "# Define paths\n",
    "data_dir = '/kaggle/input/tourism-mobile/new_data'\n",
    "train_path = os.path.join(data_dir, 'train')\n",
    "val_path = os.path.join(data_dir, 'validation')\n",
    "test_path = os.path.join(data_dir, 'test')"
   ]
  },
  {
   "cell_type": "code",
   "execution_count": 4,
   "id": "c4216cd8",
   "metadata": {
    "execution": {
     "iopub.execute_input": "2024-05-28T04:57:46.048178Z",
     "iopub.status.busy": "2024-05-28T04:57:46.047465Z",
     "iopub.status.idle": "2024-05-28T04:57:46.097241Z",
     "shell.execute_reply": "2024-05-28T04:57:46.096273Z"
    },
    "papermill": {
     "duration": 0.057099,
     "end_time": "2024-05-28T04:57:46.099168",
     "exception": false,
     "start_time": "2024-05-28T04:57:46.042069",
     "status": "completed"
    },
    "tags": []
   },
   "outputs": [],
   "source": [
    "# Check if CUDA is available\n",
    "device = torch.device(\"cuda\" if torch.cuda.is_available() else \"cpu\")"
   ]
  },
  {
   "cell_type": "code",
   "execution_count": 5,
   "id": "775967e1",
   "metadata": {
    "execution": {
     "iopub.execute_input": "2024-05-28T04:57:46.109729Z",
     "iopub.status.busy": "2024-05-28T04:57:46.109355Z",
     "iopub.status.idle": "2024-05-28T04:57:46.116987Z",
     "shell.execute_reply": "2024-05-28T04:57:46.116073Z"
    },
    "papermill": {
     "duration": 0.015026,
     "end_time": "2024-05-28T04:57:46.118920",
     "exception": false,
     "start_time": "2024-05-28T04:57:46.103894",
     "status": "completed"
    },
    "tags": []
   },
   "outputs": [],
   "source": [
    "# Define transformations\n",
    "train_transform = transforms.Compose([\n",
    "    transforms.RandomResizedCrop(224),\n",
    "    transforms.RandomHorizontalFlip(),\n",
    "    transforms.ToTensor(),\n",
    "    transforms.Normalize(mean=[0.485, 0.456, 0.406], std=[0.229, 0.224, 0.225]),\n",
    "])\n",
    "\n",
    "val_transform = transforms.Compose([\n",
    "    transforms.Resize(256),\n",
    "    transforms.CenterCrop(224),\n",
    "    transforms.ToTensor(),\n",
    "    transforms.Normalize(mean=[0.485, 0.456, 0.406], std=[0.229, 0.224, 0.225]),\n",
    "])\n",
    "\n",
    "test_transform = transforms.Compose([\n",
    "    transforms.Resize(256),\n",
    "    transforms.CenterCrop(224),\n",
    "    transforms.ToTensor(),\n",
    "    transforms.Normalize(mean=[0.485, 0.456, 0.406], std=[0.229, 0.224, 0.225]),\n",
    "])\n"
   ]
  },
  {
   "cell_type": "code",
   "execution_count": 6,
   "id": "dfdce0b3",
   "metadata": {
    "execution": {
     "iopub.execute_input": "2024-05-28T04:57:46.129012Z",
     "iopub.status.busy": "2024-05-28T04:57:46.128703Z",
     "iopub.status.idle": "2024-05-28T04:57:49.860980Z",
     "shell.execute_reply": "2024-05-28T04:57:49.859591Z"
    },
    "papermill": {
     "duration": 3.740129,
     "end_time": "2024-05-28T04:57:49.863676",
     "exception": false,
     "start_time": "2024-05-28T04:57:46.123547",
     "status": "completed"
    },
    "tags": []
   },
   "outputs": [],
   "source": [
    "from torchvision.datasets.folder import default_loader\n",
    "class CustomImageFolder(ImageFolder):\n",
    "    def __init__(self, root, transform=None, loader=default_loader, is_valid_file=None, ignore_folders=None):\n",
    "        self.ignore_folders = ignore_folders\n",
    "        super(CustomImageFolder, self).__init__(root, transform=transform, loader=loader, is_valid_file=is_valid_file)\n",
    "\n",
    "    def find_classes(self, directory):\n",
    "        classes = [d.name for d in os.scandir(directory) if d.is_dir() and d.name not in self.ignore_folders]\n",
    "        classes.sort()\n",
    "        class_to_idx = {cls_name: i for i, cls_name in enumerate(classes)}\n",
    "        return classes, class_to_idx\n",
    "# Load datasets\n",
    "train_dataset = CustomImageFolder(root=train_path, transform=train_transform,ignore_folders=['Cresent_Mall', 'Emart_Sala', 'UBND_TPHCM'])\n",
    "val_dataset = CustomImageFolder(root=val_path, transform=val_transform,ignore_folders=['Cresent_Mall', 'Emart_Sala', 'UBND_TPHCM'])\n",
    "test_dataset = CustomImageFolder(root=test_path, transform=test_transform,ignore_folders=['Cresent_Mall', 'Emart_Sala', 'UBND_TPHCM'])\n",
    "\n",
    "# Define data loaders\n",
    "train_loader = DataLoader(train_dataset, batch_size=32, shuffle=True, num_workers=4)\n",
    "val_loader = DataLoader(val_dataset, batch_size=32, shuffle=False, num_workers=4)\n",
    "test_loader = DataLoader(test_dataset, batch_size=32, shuffle=False, num_workers=4)"
   ]
  },
  {
   "cell_type": "code",
   "execution_count": 7,
   "id": "f986d312",
   "metadata": {
    "execution": {
     "iopub.execute_input": "2024-05-28T04:57:49.874938Z",
     "iopub.status.busy": "2024-05-28T04:57:49.874577Z",
     "iopub.status.idle": "2024-05-28T04:57:50.217943Z",
     "shell.execute_reply": "2024-05-28T04:57:50.217127Z"
    },
    "papermill": {
     "duration": 0.35125,
     "end_time": "2024-05-28T04:57:50.220252",
     "exception": false,
     "start_time": "2024-05-28T04:57:49.869002",
     "status": "completed"
    },
    "tags": []
   },
   "outputs": [
    {
     "name": "stderr",
     "output_type": "stream",
     "text": [
      "Downloading: \"https://download.pytorch.org/models/mobilenet_v2-7ebf99e0.pth\" to /root/.cache/torch/hub/checkpoints/mobilenet_v2-7ebf99e0.pth\n",
      "100%|██████████| 13.6M/13.6M [00:00<00:00, 134MB/s]\n"
     ]
    }
   ],
   "source": [
    "# Load pre-trained MobileNetV2 model\n",
    "model = torchvision.models.mobilenet_v2(weights='DEFAULT')"
   ]
  },
  {
   "cell_type": "code",
   "execution_count": 8,
   "id": "a65e9138",
   "metadata": {
    "execution": {
     "iopub.execute_input": "2024-05-28T04:57:50.231840Z",
     "iopub.status.busy": "2024-05-28T04:57:50.231510Z",
     "iopub.status.idle": "2024-05-28T04:57:50.399203Z",
     "shell.execute_reply": "2024-05-28T04:57:50.398196Z"
    },
    "papermill": {
     "duration": 0.176138,
     "end_time": "2024-05-28T04:57:50.401648",
     "exception": false,
     "start_time": "2024-05-28T04:57:50.225510",
     "status": "completed"
    },
    "tags": []
   },
   "outputs": [],
   "source": [
    "# Modify last layer\n",
    "num_ftrs = model.classifier[1].in_features\n",
    "model.classifier[1] = nn.Linear(num_ftrs, len(train_dataset.classes))\n",
    "\n",
    "# Send model to device\n",
    "model = model.to(device)\n",
    "\n",
    "# Define loss function and optimizer\n",
    "criterion = nn.CrossEntropyLoss()\n",
    "optimizer = optim.Adam(model.parameters(), lr=0.001)"
   ]
  },
  {
   "cell_type": "code",
   "execution_count": 9,
   "id": "2af73ae1",
   "metadata": {
    "execution": {
     "iopub.execute_input": "2024-05-28T04:57:50.412826Z",
     "iopub.status.busy": "2024-05-28T04:57:50.412494Z",
     "iopub.status.idle": "2024-05-28T04:57:50.417100Z",
     "shell.execute_reply": "2024-05-28T04:57:50.416243Z"
    },
    "papermill": {
     "duration": 0.012384,
     "end_time": "2024-05-28T04:57:50.419091",
     "exception": false,
     "start_time": "2024-05-28T04:57:50.406707",
     "status": "completed"
    },
    "tags": []
   },
   "outputs": [],
   "source": [
    "model.class_to_idx = train_dataset.class_to_idx\n",
    "model.idx_to_class = {\n",
    "    idx: class_\n",
    "    for class_, idx in model.class_to_idx.items()\n",
    "}"
   ]
  },
  {
   "cell_type": "code",
   "execution_count": 10,
   "id": "51d015ae",
   "metadata": {
    "execution": {
     "iopub.execute_input": "2024-05-28T04:57:50.430523Z",
     "iopub.status.busy": "2024-05-28T04:57:50.430011Z",
     "iopub.status.idle": "2024-05-28T06:35:34.548263Z",
     "shell.execute_reply": "2024-05-28T06:35:34.546998Z"
    },
    "papermill": {
     "duration": 5864.136268,
     "end_time": "2024-05-28T06:35:34.560382",
     "exception": false,
     "start_time": "2024-05-28T04:57:50.424114",
     "status": "completed"
    },
    "tags": []
   },
   "outputs": [
    {
     "name": "stdout",
     "output_type": "stream",
     "text": [
      "Epoch [1/60], Train Loss: 0.9398, Train Accuracy: 0.7592, Validation Loss: 0.4579, Validation Accuracy: 0.8869\n",
      "Epoch [2/60], Train Loss: 0.5449, Train Accuracy: 0.8454, Validation Loss: 0.3332, Validation Accuracy: 0.9095\n",
      "Epoch [3/60], Train Loss: 0.4240, Train Accuracy: 0.8799, Validation Loss: 0.3997, Validation Accuracy: 0.9036\n",
      "Epoch [4/60], Train Loss: 0.4206, Train Accuracy: 0.8820, Validation Loss: 0.3026, Validation Accuracy: 0.9190\n",
      "Epoch [5/60], Train Loss: 0.3739, Train Accuracy: 0.8968, Validation Loss: 0.3030, Validation Accuracy: 0.9250\n",
      "Epoch [6/60], Train Loss: 0.3622, Train Accuracy: 0.8971, Validation Loss: 0.3198, Validation Accuracy: 0.9214\n",
      "Epoch [7/60], Train Loss: 0.3506, Train Accuracy: 0.9014, Validation Loss: 0.2516, Validation Accuracy: 0.9214\n",
      "Epoch [8/60], Train Loss: 0.3156, Train Accuracy: 0.9109, Validation Loss: 0.3028, Validation Accuracy: 0.9321\n",
      "Epoch [9/60], Train Loss: 0.3038, Train Accuracy: 0.9150, Validation Loss: 0.3099, Validation Accuracy: 0.9167\n",
      "Epoch [10/60], Train Loss: 0.2864, Train Accuracy: 0.9155, Validation Loss: 0.2228, Validation Accuracy: 0.9452\n",
      "Epoch [11/60], Train Loss: 0.2951, Train Accuracy: 0.9175, Validation Loss: 0.2600, Validation Accuracy: 0.9369\n",
      "Epoch [12/60], Train Loss: 0.2976, Train Accuracy: 0.9158, Validation Loss: 0.2922, Validation Accuracy: 0.9345\n",
      "Epoch [13/60], Train Loss: 0.3012, Train Accuracy: 0.9122, Validation Loss: 0.2818, Validation Accuracy: 0.9440\n",
      "Epoch [14/60], Train Loss: 0.2698, Train Accuracy: 0.9240, Validation Loss: 0.2212, Validation Accuracy: 0.9500\n",
      "Epoch [15/60], Train Loss: 0.2852, Train Accuracy: 0.9189, Validation Loss: 0.2695, Validation Accuracy: 0.9369\n",
      "Epoch [16/60], Train Loss: 0.2499, Train Accuracy: 0.9293, Validation Loss: 0.2058, Validation Accuracy: 0.9488\n",
      "Epoch [17/60], Train Loss: 0.2573, Train Accuracy: 0.9255, Validation Loss: 0.2410, Validation Accuracy: 0.9417\n",
      "Epoch [18/60], Train Loss: 0.2460, Train Accuracy: 0.9310, Validation Loss: 0.2589, Validation Accuracy: 0.9298\n",
      "Epoch [19/60], Train Loss: 0.2275, Train Accuracy: 0.9325, Validation Loss: 0.2142, Validation Accuracy: 0.9488\n",
      "Epoch [20/60], Train Loss: 0.2428, Train Accuracy: 0.9304, Validation Loss: 0.2776, Validation Accuracy: 0.9381\n",
      "Epoch [21/60], Train Loss: 0.1906, Train Accuracy: 0.9444, Validation Loss: 0.2204, Validation Accuracy: 0.9571\n",
      "Epoch [22/60], Train Loss: 0.1478, Train Accuracy: 0.9587, Validation Loss: 0.1829, Validation Accuracy: 0.9583\n",
      "Epoch [23/60], Train Loss: 0.1235, Train Accuracy: 0.9641, Validation Loss: 0.1897, Validation Accuracy: 0.9571\n",
      "Epoch [24/60], Train Loss: 0.1246, Train Accuracy: 0.9645, Validation Loss: 0.1750, Validation Accuracy: 0.9583\n",
      "Epoch [25/60], Train Loss: 0.1217, Train Accuracy: 0.9631, Validation Loss: 0.1740, Validation Accuracy: 0.9607\n",
      "Epoch [26/60], Train Loss: 0.1190, Train Accuracy: 0.9646, Validation Loss: 0.1603, Validation Accuracy: 0.9643\n",
      "Epoch [27/60], Train Loss: 0.1031, Train Accuracy: 0.9672, Validation Loss: 0.1720, Validation Accuracy: 0.9643\n",
      "Epoch [28/60], Train Loss: 0.1201, Train Accuracy: 0.9663, Validation Loss: 0.1737, Validation Accuracy: 0.9619\n",
      "Epoch [29/60], Train Loss: 0.1001, Train Accuracy: 0.9711, Validation Loss: 0.1668, Validation Accuracy: 0.9619\n",
      "Epoch [30/60], Train Loss: 0.1085, Train Accuracy: 0.9687, Validation Loss: 0.1724, Validation Accuracy: 0.9607\n",
      "Epoch [31/60], Train Loss: 0.1020, Train Accuracy: 0.9701, Validation Loss: 0.1529, Validation Accuracy: 0.9655\n",
      "Epoch [32/60], Train Loss: 0.1101, Train Accuracy: 0.9668, Validation Loss: 0.1528, Validation Accuracy: 0.9631\n",
      "Epoch [33/60], Train Loss: 0.0962, Train Accuracy: 0.9701, Validation Loss: 0.1686, Validation Accuracy: 0.9571\n",
      "Epoch [34/60], Train Loss: 0.1023, Train Accuracy: 0.9707, Validation Loss: 0.1742, Validation Accuracy: 0.9619\n",
      "Epoch [35/60], Train Loss: 0.0968, Train Accuracy: 0.9702, Validation Loss: 0.1719, Validation Accuracy: 0.9595\n",
      "Epoch [36/60], Train Loss: 0.0989, Train Accuracy: 0.9694, Validation Loss: 0.1571, Validation Accuracy: 0.9619\n",
      "Epoch [37/60], Train Loss: 0.0976, Train Accuracy: 0.9696, Validation Loss: 0.1775, Validation Accuracy: 0.9607\n",
      "Epoch [38/60], Train Loss: 0.0861, Train Accuracy: 0.9769, Validation Loss: 0.1558, Validation Accuracy: 0.9643\n",
      "Epoch [39/60], Train Loss: 0.0949, Train Accuracy: 0.9716, Validation Loss: 0.1550, Validation Accuracy: 0.9667\n",
      "Epoch [40/60], Train Loss: 0.0872, Train Accuracy: 0.9740, Validation Loss: 0.1719, Validation Accuracy: 0.9667\n",
      "Epoch [41/60], Train Loss: 0.0966, Train Accuracy: 0.9718, Validation Loss: 0.1785, Validation Accuracy: 0.9679\n",
      "Epoch [42/60], Train Loss: 0.0780, Train Accuracy: 0.9764, Validation Loss: 0.1791, Validation Accuracy: 0.9667\n",
      "Epoch [43/60], Train Loss: 0.0970, Train Accuracy: 0.9713, Validation Loss: 0.1747, Validation Accuracy: 0.9655\n",
      "Epoch [44/60], Train Loss: 0.0986, Train Accuracy: 0.9709, Validation Loss: 0.1620, Validation Accuracy: 0.9667\n",
      "Epoch [45/60], Train Loss: 0.0833, Train Accuracy: 0.9747, Validation Loss: 0.1669, Validation Accuracy: 0.9690\n",
      "Epoch [46/60], Train Loss: 0.0881, Train Accuracy: 0.9736, Validation Loss: 0.1610, Validation Accuracy: 0.9690\n",
      "Epoch [47/60], Train Loss: 0.0861, Train Accuracy: 0.9740, Validation Loss: 0.1612, Validation Accuracy: 0.9667\n",
      "Epoch [48/60], Train Loss: 0.0803, Train Accuracy: 0.9769, Validation Loss: 0.1580, Validation Accuracy: 0.9667\n",
      "Epoch [49/60], Train Loss: 0.0886, Train Accuracy: 0.9745, Validation Loss: 0.1669, Validation Accuracy: 0.9679\n",
      "Epoch [50/60], Train Loss: 0.0830, Train Accuracy: 0.9760, Validation Loss: 0.1526, Validation Accuracy: 0.9643\n",
      "Epoch [51/60], Train Loss: 0.0835, Train Accuracy: 0.9752, Validation Loss: 0.1583, Validation Accuracy: 0.9679\n",
      "Epoch [52/60], Train Loss: 0.0778, Train Accuracy: 0.9762, Validation Loss: 0.1583, Validation Accuracy: 0.9667\n",
      "Epoch [53/60], Train Loss: 0.0866, Train Accuracy: 0.9747, Validation Loss: 0.1561, Validation Accuracy: 0.9679\n",
      "Epoch [54/60], Train Loss: 0.0958, Train Accuracy: 0.9736, Validation Loss: 0.1707, Validation Accuracy: 0.9667\n",
      "Epoch [55/60], Train Loss: 0.0782, Train Accuracy: 0.9755, Validation Loss: 0.1541, Validation Accuracy: 0.9690\n",
      "Epoch [56/60], Train Loss: 0.0820, Train Accuracy: 0.9741, Validation Loss: 0.1628, Validation Accuracy: 0.9690\n",
      "Epoch [57/60], Train Loss: 0.0747, Train Accuracy: 0.9781, Validation Loss: 0.1589, Validation Accuracy: 0.9655\n",
      "Epoch [58/60], Train Loss: 0.0858, Train Accuracy: 0.9747, Validation Loss: 0.1603, Validation Accuracy: 0.9667\n",
      "Epoch [59/60], Train Loss: 0.0857, Train Accuracy: 0.9752, Validation Loss: 0.1579, Validation Accuracy: 0.9655\n",
      "Epoch [60/60], Train Loss: 0.0797, Train Accuracy: 0.9757, Validation Loss: 0.1592, Validation Accuracy: 0.9643\n"
     ]
    }
   ],
   "source": [
    "import torch\n",
    "import torch.nn as nn\n",
    "import torch.optim as optim\n",
    "from torch.utils.data import DataLoader\n",
    "from torchvision import transforms\n",
    "\n",
    "# Assuming 'device' is defined earlier as torch.device(\"cuda:0\") if available, else \"cpu\"\n",
    "\n",
    "# Define number of epochs\n",
    "num_epochs = 60\n",
    "\n",
    "# Initialize lists to store loss and accuracy for each epoch\n",
    "train_losses = []\n",
    "val_losses = []\n",
    "train_accuracies = []\n",
    "val_accuracies = []\n",
    "\n",
    "# Learning rate scheduling\n",
    "scheduler = optim.lr_scheduler.StepLR(optimizer, step_size=20, gamma=0.1)\n",
    "\n",
    "# Early stopping\n",
    "best_val_loss = np.Inf\n",
    "patience = 20\n",
    "early_stopping_counter = 0\n",
    "\n",
    "for epoch in range(num_epochs):\n",
    "    model.train()\n",
    "    running_loss = 0.0\n",
    "    correct = 0\n",
    "    total = 0\n",
    "    for images, labels in train_loader:\n",
    "        images, labels = images.to(device), labels.to(device)\n",
    "        optimizer.zero_grad()\n",
    "        outputs = model(images)\n",
    "        loss = criterion(outputs, labels)\n",
    "        loss.backward()\n",
    "        nn.utils.clip_grad_norm_(model.parameters(), max_norm=1)  # Gradient clipping\n",
    "        optimizer.step()\n",
    "        running_loss += loss.item()\n",
    "        _, predicted = outputs.max(1)\n",
    "        total += labels.size(0)\n",
    "        correct += predicted.eq(labels).sum().item()\n",
    "        \n",
    "    train_loss = running_loss / len(train_loader)\n",
    "    train_accuracy = correct / total\n",
    "    train_losses.append(train_loss)\n",
    "    train_accuracies.append(train_accuracy)\n",
    "    \n",
    "    # Validation loop\n",
    "    model.eval()\n",
    "    val_running_loss = 0.0\n",
    "    val_correct = 0\n",
    "    val_total = 0\n",
    "    with torch.no_grad():\n",
    "        for val_images, val_labels in val_loader:\n",
    "            val_images, val_labels = val_images.to(device), val_labels.to(device)\n",
    "            val_outputs = model(val_images)\n",
    "            val_loss = criterion(val_outputs, val_labels)\n",
    "            val_running_loss += val_loss.item()\n",
    "            _, val_predicted = val_outputs.max(1)\n",
    "            val_total += val_labels.size(0)\n",
    "            val_correct += val_predicted.eq(val_labels).sum().item()\n",
    "            \n",
    "    val_loss = val_running_loss / len(val_loader)\n",
    "    val_accuracy = val_correct / val_total\n",
    "    val_losses.append(val_loss)\n",
    "    val_accuracies.append(val_accuracy)\n",
    "    \n",
    "    # Learning rate scheduling step\n",
    "    scheduler.step()\n",
    "    \n",
    "    # Early stopping check\n",
    "    if val_loss < best_val_loss:\n",
    "        best_val_loss = val_loss\n",
    "        early_stopping_counter = 0\n",
    "        # Save the model checkpoint\n",
    "        torch.save(model, '/kaggle/working/best_model.pth')\n",
    "    else:\n",
    "        early_stopping_counter += 1\n",
    "        if early_stopping_counter >= patience:\n",
    "            print(\"Early stopping triggered!\")\n",
    "            break\n",
    "    \n",
    "    print(f\"Epoch [{epoch+1}/{num_epochs}], Train Loss: {train_loss:.4f}, Train Accuracy: {train_accuracy:.4f}, Validation Loss: {val_loss:.4f}, Validation Accuracy: {val_accuracy:.4f}\")"
   ]
  },
  {
   "cell_type": "code",
   "execution_count": 11,
   "id": "672fbb50",
   "metadata": {
    "execution": {
     "iopub.execute_input": "2024-05-28T06:35:34.581901Z",
     "iopub.status.busy": "2024-05-28T06:35:34.581513Z",
     "iopub.status.idle": "2024-05-28T06:35:35.222547Z",
     "shell.execute_reply": "2024-05-28T06:35:35.221708Z"
    },
    "papermill": {
     "duration": 0.654511,
     "end_time": "2024-05-28T06:35:35.224837",
     "exception": false,
     "start_time": "2024-05-28T06:35:34.570326",
     "status": "completed"
    },
    "tags": []
   },
   "outputs": [
    {
     "data": {
      "image/png": "[encoded data removed]",
      "text/plain": [
       "<Figure size 1200x400 with 2 Axes>"
      ]
     },
     "metadata": {},
     "output_type": "display_data"
    }
   ],
   "source": [
    "# Plotting training and validation loss and accuracy\n",
    "epochs = range(1, num_epochs + 1)\n",
    "\n",
    "plt.figure(figsize=(12, 4))\n",
    "plt.subplot(1, 2, 1)\n",
    "plt.plot(epochs, train_losses, label='Train Loss')\n",
    "plt.plot(epochs, val_losses, label='Validation Loss')\n",
    "plt.xlabel('Epochs')\n",
    "plt.ylabel('Loss')\n",
    "plt.legend()\n",
    "plt.title('Loss')\n",
    "\n",
    "plt.subplot(1, 2, 2)\n",
    "plt.plot(epochs, train_accuracies, label='Train Accuracy')\n",
    "plt.plot(epochs, val_accuracies, label='Validation Accuracy')\n",
    "plt.xlabel('Epochs')\n",
    "plt.ylabel('Accuracy')\n",
    "plt.legend()\n",
    "plt.title('Accuracy')\n",
    "\n",
    "plt.tight_layout()\n",
    "plt.show()"
   ]
  },
  {
   "cell_type": "code",
   "execution_count": 12,
   "id": "4cf04008",
   "metadata": {
    "execution": {
     "iopub.execute_input": "2024-05-28T06:35:35.247347Z",
     "iopub.status.busy": "2024-05-28T06:35:35.246626Z",
     "iopub.status.idle": "2024-05-28T06:36:17.074027Z",
     "shell.execute_reply": "2024-05-28T06:36:17.072673Z"
    },
    "papermill": {
     "duration": 41.850622,
     "end_time": "2024-05-28T06:36:17.085856",
     "exception": false,
     "start_time": "2024-05-28T06:35:35.235234",
     "status": "completed"
    },
    "tags": []
   },
   "outputs": [
    {
     "name": "stdout",
     "output_type": "stream",
     "text": [
      "The model has achieved an accuracy of 3.93% on the test dataset\n",
      "Precision: 3.94%\n",
      "Recall: 3.93%\n",
      "F1 Score: 3.93%\n"
     ]
    }
   ],
   "source": [
    "from sklearn.metrics import precision_score, recall_score, f1_score\n",
    "\n",
    "def evaluate_model(model, test_loader, criterion):\n",
    "    with torch.no_grad():\n",
    "        model.eval()\n",
    "        test_acc = 0\n",
    "        all_preds = []\n",
    "        all_labels = []\n",
    "        \n",
    "        for data, label in test_loader:\n",
    "            data, label = data.cuda(), label.cuda()\n",
    "            \n",
    "            output = model(data)\n",
    "            \n",
    "            _, pred = torch.max(output, dim=1)\n",
    "            correct_tensor = pred.eq(label.data.view_as(pred))\n",
    "            accuracy = torch.mean(correct_tensor.type(torch.FloatTensor))\n",
    "            test_acc += accuracy.item() * data.size(0)\n",
    "            \n",
    "            all_preds.extend(pred.cpu().numpy())\n",
    "            all_labels.extend(label.cpu().numpy())\n",
    "        \n",
    "        test_acc = test_acc / len(test_loader.dataset)\n",
    "        \n",
    "        precision = precision_score(all_labels, all_preds, average='weighted')\n",
    "        recall = recall_score(all_labels, all_preds, average='weighted')\n",
    "        f1 = f1_score(all_labels, all_preds, average='weighted')\n",
    "        \n",
    "        return test_acc, precision, recall, f1\n",
    "\n",
    "# Load the saved weights\n",
    "model = torch.load('/kaggle/working/best_model.pth')\n",
    "\n",
    "# Evaluate the model\n",
    "test_acc, precision, recall, f1 = evaluate_model(model.cuda(), test_loader, criterion)\n",
    "\n",
    "print(f'The model has achieved an accuracy of {100 * test_acc:.2f}% on the test dataset')\n",
    "print(f'Precision: {100 * precision:.2f}%')\n",
    "print(f'Recall: {100 * recall:.2f}%')\n",
    "print(f'F1 Score: {100 * f1:.2f}%')"
   ]
  },
  {
   "cell_type": "code",
   "execution_count": 13,
   "id": "701cf044",
   "metadata": {
    "execution": {
     "iopub.execute_input": "2024-05-28T06:36:17.109632Z",
     "iopub.status.busy": "2024-05-28T06:36:17.108706Z",
     "iopub.status.idle": "2024-05-28T06:36:17.752886Z",
     "shell.execute_reply": "2024-05-28T06:36:17.751513Z"
    },
    "papermill": {
     "duration": 0.657935,
     "end_time": "2024-05-28T06:36:17.754623",
     "exception": true,
     "start_time": "2024-05-28T06:36:17.096688",
     "status": "failed"
    },
    "tags": []
   },
   "outputs": [
    {
     "ename": "AttributeError",
     "evalue": "'MobileNetV2' object has no attribute 'idx_to_class'",
     "output_type": "error",
     "traceback": [
      "\u001b[0;31m---------------------------------------------------------------------------\u001b[0m",
      "\u001b[0;31mAttributeError\u001b[0m                            Traceback (most recent call last)",
      "Cell \u001b[0;32mIn[13], line 21\u001b[0m\n\u001b[1;32m     18\u001b[0m     predicted_label \u001b[38;5;241m=\u001b[39m predicted_label\u001b[38;5;241m.\u001b[39mitem()\n\u001b[1;32m     19\u001b[0m     confidence_score \u001b[38;5;241m=\u001b[39m confidence_score\u001b[38;5;241m.\u001b[39mitem()\n\u001b[0;32m---> 21\u001b[0m \u001b[38;5;28mprint\u001b[39m(\u001b[38;5;124m\"\u001b[39m\u001b[38;5;124mPredicted label:\u001b[39m\u001b[38;5;124m\"\u001b[39m, \u001b[43mmodel\u001b[49m\u001b[38;5;241;43m.\u001b[39;49m\u001b[43midx_to_class\u001b[49m[predicted_label])\n\u001b[1;32m     22\u001b[0m \u001b[38;5;28mprint\u001b[39m(\u001b[38;5;124m\"\u001b[39m\u001b[38;5;124mConfidence score:\u001b[39m\u001b[38;5;124m\"\u001b[39m, confidence_score)\n\u001b[1;32m     23\u001b[0m \u001b[38;5;28mprint\u001b[39m(\u001b[38;5;124m\"\u001b[39m\u001b[38;5;124mTrue label:\u001b[39m\u001b[38;5;124m\"\u001b[39m, test_dataset\u001b[38;5;241m.\u001b[39mclasses[true_label])\n",
      "File \u001b[0;32m/opt/conda/lib/python3.10/site-packages/torch/nn/modules/module.py:1695\u001b[0m, in \u001b[0;36mModule.__getattr__\u001b[0;34m(self, name)\u001b[0m\n\u001b[1;32m   1693\u001b[0m     \u001b[38;5;28;01mif\u001b[39;00m name \u001b[38;5;129;01min\u001b[39;00m modules:\n\u001b[1;32m   1694\u001b[0m         \u001b[38;5;28;01mreturn\u001b[39;00m modules[name]\n\u001b[0;32m-> 1695\u001b[0m \u001b[38;5;28;01mraise\u001b[39;00m \u001b[38;5;167;01mAttributeError\u001b[39;00m(\u001b[38;5;124mf\u001b[39m\u001b[38;5;124m\"\u001b[39m\u001b[38;5;124m'\u001b[39m\u001b[38;5;132;01m{\u001b[39;00m\u001b[38;5;28mtype\u001b[39m(\u001b[38;5;28mself\u001b[39m)\u001b[38;5;241m.\u001b[39m\u001b[38;5;18m__name__\u001b[39m\u001b[38;5;132;01m}\u001b[39;00m\u001b[38;5;124m'\u001b[39m\u001b[38;5;124m object has no attribute \u001b[39m\u001b[38;5;124m'\u001b[39m\u001b[38;5;132;01m{\u001b[39;00mname\u001b[38;5;132;01m}\u001b[39;00m\u001b[38;5;124m'\u001b[39m\u001b[38;5;124m\"\u001b[39m)\n",
      "\u001b[0;31mAttributeError\u001b[0m: 'MobileNetV2' object has no attribute 'idx_to_class'"
     ]
    }
   ],
   "source": [
    "import torch.nn.functional as F\n",
    "import matplotlib.pyplot as plt\n",
    "import numpy as np\n",
    "\n",
    "# Set the model to evaluation mode\n",
    "model.eval()\n",
    "\n",
    "# Select a random image from the test dataset\n",
    "random_image_index = random.randint(0, len(test_dataset) - 1)\n",
    "image, true_label = test_dataset[random_image_index]\n",
    "image = image.unsqueeze(0).to(device)\n",
    "\n",
    "# Perform inference\n",
    "with torch.no_grad():\n",
    "    output = model(image)\n",
    "    predicted_probabilities = F.softmax(output, dim=1)\n",
    "    confidence_score, predicted_label = torch.max(predicted_probabilities, 1)\n",
    "    predicted_label = predicted_label.item()\n",
    "    confidence_score = confidence_score.item()\n",
    "\n",
    "print(\"Predicted label:\", model.idx_to_class[predicted_label])\n",
    "print(\"Confidence score:\", confidence_score)\n",
    "print(\"True label:\", test_dataset.classes[true_label])\n",
    "\n",
    "# Display the image\n",
    "image_np = image.squeeze().permute(1, 2, 0).cpu().numpy()\n",
    "image_np = (image_np - image_np.min()) / (image_np.max() - image_np.min())\n",
    "\n",
    "plt.imshow(image_np)\n",
    "plt.axis('off')\n",
    "plt.show()"
   ]
  }
 ],
 "metadata": {
  "kaggle": {
   "accelerator": "gpu",
   "dataSources": [
    {
     "datasetId": 3693088,
     "sourceId": 6429014,
     "sourceType": "datasetVersion"
    },
    {
     "datasetId": 5098863,
     "sourceId": 8536480,
     "sourceType": "datasetVersion"
    }
   ],
   "dockerImageVersionId": 30699,
   "isGpuEnabled": true,
   "isInternetEnabled": true,
   "language": "python",
   "sourceType": "notebook"
  },
  "kernelspec": {
   "display_name": "Python 3",
   "language": "python",
   "name": "python3"
  },
  "language_info": {
   "codemirror_mode": {
    "name": "ipython",
    "version": 3
   },
   "file_extension": ".py",
   "mimetype": "text/x-python",
   "name": "python",
   "nbconvert_exporter": "python",
   "pygments_lexer": "ipython3",
   "version": "3.10.13"
  },
  "papermill": {
   "default_parameters": {},
   "duration": 5923.06027,
   "end_time": "2024-05-28T06:36:20.112254",
   "environment_variables": {},
   "exception": true,
   "input_path": "__notebook__.ipynb",
   "output_path": "__notebook__.ipynb",
   "parameters": {},
   "start_time": "2024-05-28T04:57:37.051984",
   "version": "2.5.0"
  }
 },
 "nbformat": 4,
 "nbformat_minor": 5
}
